{
 "cells": [
  {
   "cell_type": "code",
   "execution_count": 2,
   "id": "7309ed6b-624d-47d4-aaec-7fbd02bce17a",
   "metadata": {},
   "outputs": [
    {
     "name": "stdout",
     "output_type": "stream",
     "text": [
      "✅ Archivo procesado: C:\\Users\\Administrador\\TFG-INFORMATICA\\DatosClimaAemet\\procesado_aemet_3129_Aeropuerto_Barajas_2022.csv\n",
      "✅ Archivo procesado: C:\\Users\\Administrador\\TFG-INFORMATICA\\DatosClimaAemet\\procesado_aemet_3129_Aeropuerto_Barajas_2023.csv\n",
      "✅ Archivo procesado: C:\\Users\\Administrador\\TFG-INFORMATICA\\DatosClimaAemet\\procesado_aemet_3129_Aeropuerto_Barajas_2024.csv\n",
      "✅ Archivo procesado: C:\\Users\\Administrador\\TFG-INFORMATICA\\DatosClimaAemet\\procesado_aemet_3129_Aeropuerto_Barajas_2025.csv\n",
      "✅ Archivo procesado: C:\\Users\\Administrador\\TFG-INFORMATICA\\DatosClimaAemet\\procesado_aemet_3194U_Ciudad_Universitaria_2022.csv\n",
      "✅ Archivo procesado: C:\\Users\\Administrador\\TFG-INFORMATICA\\DatosClimaAemet\\procesado_aemet_3194U_Ciudad_Universitaria_2023.csv\n",
      "✅ Archivo procesado: C:\\Users\\Administrador\\TFG-INFORMATICA\\DatosClimaAemet\\procesado_aemet_3194U_Ciudad_Universitaria_2024.csv\n",
      "✅ Archivo procesado: C:\\Users\\Administrador\\TFG-INFORMATICA\\DatosClimaAemet\\procesado_aemet_3194U_Ciudad_Universitaria_2025.csv\n",
      "✅ Archivo procesado: C:\\Users\\Administrador\\TFG-INFORMATICA\\DatosClimaAemet\\procesado_aemet_3195_Madrid_Retiro_2022.csv\n",
      "✅ Archivo procesado: C:\\Users\\Administrador\\TFG-INFORMATICA\\DatosClimaAemet\\procesado_aemet_3195_Madrid_Retiro_2023.csv\n",
      "✅ Archivo procesado: C:\\Users\\Administrador\\TFG-INFORMATICA\\DatosClimaAemet\\procesado_aemet_3195_Madrid_Retiro_2024.csv\n",
      "✅ Archivo procesado: C:\\Users\\Administrador\\TFG-INFORMATICA\\DatosClimaAemet\\procesado_aemet_3195_Madrid_Retiro_2025.csv\n",
      "✅ Archivo procesado: C:\\Users\\Administrador\\TFG-INFORMATICA\\DatosClimaAemet\\procesado_aemet_3196_Cuatro_Vientos_2022.csv\n",
      "✅ Archivo procesado: C:\\Users\\Administrador\\TFG-INFORMATICA\\DatosClimaAemet\\procesado_aemet_3196_Cuatro_Vientos_2023.csv\n",
      "✅ Archivo procesado: C:\\Users\\Administrador\\TFG-INFORMATICA\\DatosClimaAemet\\procesado_aemet_3196_Cuatro_Vientos_2024.csv\n",
      "✅ Archivo procesado: C:\\Users\\Administrador\\TFG-INFORMATICA\\DatosClimaAemet\\procesado_aemet_3196_Cuatro_Vientos_2025.csv\n"
     ]
    }
   ],
   "source": [
    "import os\n",
    "import pandas as pd\n",
    "\n",
    "# Carpeta donde están los archivos AEMET\n",
    "# Usa la ruta actual del notebook, o cámbiala si los ficheros están en otra carpeta\n",
    "carpeta = os.getcwd()\n",
    "\n",
    "# Recorre todos los archivos que empiecen por \"aemet\" y terminen en .csv\n",
    "for archivo in os.listdir(carpeta):\n",
    "    if archivo.startswith(\"aemet\") and archivo.endswith(\".csv\"):\n",
    "        ruta_original = os.path.join(carpeta, archivo)\n",
    "        ruta_salida = os.path.join(carpeta, f\"procesado_{archivo}\")\n",
    "\n",
    "        try:\n",
    "            # Lee el archivo separado por comas\n",
    "            df = pd.read_csv(ruta_original, sep=\",\", engine=\"python\")\n",
    "\n",
    "            # Guarda el resultado con el separador ya aplicado\n",
    "            df.to_csv(ruta_salida, index=False)\n",
    "\n",
    "             # Elimina el archivo original después de procesarlo\n",
    "          #  os.remove(ruta_original)\n",
    "            \n",
    "            print(f\"✅ Archivo procesado: {ruta_salida}\")\n",
    "\n",
    "        except Exception as e:\n",
    "            print(f\"❌ Error procesando {archivo}: {e}\")\n"
   ]
  },
  {
   "cell_type": "code",
   "execution_count": null,
   "id": "f6e6f032-4e83-4275-9df2-da125a4e5d5a",
   "metadata": {},
   "outputs": [],
   "source": []
  }
 ],
 "metadata": {
  "kernelspec": {
   "display_name": "Python [conda env:base] *",
   "language": "python",
   "name": "conda-base-py"
  },
  "language_info": {
   "codemirror_mode": {
    "name": "ipython",
    "version": 3
   },
   "file_extension": ".py",
   "mimetype": "text/x-python",
   "name": "python",
   "nbconvert_exporter": "python",
   "pygments_lexer": "ipython3",
   "version": "3.13.5"
  }
 },
 "nbformat": 4,
 "nbformat_minor": 5
}
