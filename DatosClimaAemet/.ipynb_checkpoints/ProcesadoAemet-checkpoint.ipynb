{
 "cells": [
  {
   "cell_type": "code",
   "execution_count": null,
   "id": "7309ed6b-624d-47d4-aaec-7fbd02bce17a",
   "metadata": {},
   "outputs": [],
   "source": [
    "import os\n",
    "import pandas as pd\n",
    "\n",
    "# Carpeta donde están los archivos AEMET\n",
    "# Usa la ruta actual del notebook, o cámbiala si los ficheros están en otra carpeta\n",
    "carpeta = os.getcwd()\n",
    "\n",
    "# Recorre todos los archivos que empiecen por \"aemet\" y terminen en .csv\n",
    "for archivo in os.listdir(carpeta):\n",
    "    if archivo.startswith(\"aemet\") and archivo.endswith(\".csv\"):\n",
    "        ruta_original = os.path.join(carpeta, archivo)\n",
    "        ruta_salida = os.path.join(carpeta, f\"procesado_{archivo}\")\n",
    "\n",
    "        try:\n",
    "            # Lee el archivo separado por comas\n",
    "            df = pd.read_csv(ruta_original, sep=\",\", engine=\"python\")\n",
    "\n",
    "            # Guarda el resultado con el separador ya aplicado\n",
    "            df.to_csv(ruta_salida, index=False)\n",
    "\n",
    "             # Elimina el archivo original después de procesarlo\n",
    "          #  os.remove(ruta_original)\n",
    "            \n",
    "            print(f\"✅ Archivo procesado: {ruta_salida}\")\n",
    "\n",
    "        except Exception as e:\n",
    "            print(f\"❌ Error procesando {archivo}: {e}\")\n"
   ]
  }
 ],
 "metadata": {
  "kernelspec": {
   "display_name": "Python [conda env:base] *",
   "language": "python",
   "name": "conda-base-py"
  },
  "language_info": {
   "codemirror_mode": {
    "name": "ipython",
    "version": 3
   },
   "file_extension": ".py",
   "mimetype": "text/x-python",
   "name": "python",
   "nbconvert_exporter": "python",
   "pygments_lexer": "ipython3",
   "version": "3.13.5"
  }
 },
 "nbformat": 4,
 "nbformat_minor": 5
}
